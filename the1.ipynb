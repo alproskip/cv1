{
 "cells": [
  {
   "cell_type": "code",
   "execution_count": 1,
   "metadata": {},
   "outputs": [],
   "source": [
    "from os import walk\n",
    "from PIL import Image\n",
    "import numpy as np\n",
    "from tqdm import tqdm\n",
    "\n",
    "EPSILON = 10**(-20)"
   ]
  },
  {
   "cell_type": "code",
   "execution_count": 2,
   "metadata": {},
   "outputs": [
    {
     "data": {
      "text/plain": [
       "200"
      ]
     },
     "execution_count": 2,
     "metadata": {},
     "output_type": "execute_result"
    }
   ],
   "source": [
    "\n",
    "\n",
    "filenames = next(walk('dataset/support_96'), (None, None, []))[2]  # [] if no file\n",
    "len(filenames)"
   ]
  },
  {
   "cell_type": "code",
   "execution_count": 3,
   "metadata": {},
   "outputs": [],
   "source": [
    "img1 = np.asarray(Image.open('dataset/support_96/Acadian_Flycatcher_0016_887710060.jpg'))\n",
    "img2 = np.asarray(Image.open('dataset/query_1/Acadian_Flycatcher_0016_887710060.jpg'))\n",
    "img3 = np.asarray(Image.open('dataset/query_1/American_Crow_0024_2618947526.jpg'))\n"
   ]
  },
  {
   "cell_type": "code",
   "execution_count": 4,
   "metadata": {},
   "outputs": [],
   "source": [
    "def per_channel_histogram(img, interval=1):\n",
    "    x , y = img.shape[0], img.shape[1]\n",
    "    \n",
    "    histograms = {\n",
    "        'red':np.zeros(256, np.int16), \n",
    "        'green':np.zeros(256, np.int16), \n",
    "        'blue':np.zeros(256, np.int16)\n",
    "        }\n",
    "\n",
    "    for i in range(x):\n",
    "        for j in range(y):\n",
    "            histograms['red'][img[i][j][0]] += 1\n",
    "            histograms['green'][img[i][j][1]] += 1\n",
    "            histograms['blue'][img[i][j][2]] += 1\n",
    "\n",
    "    if interval == 1:\n",
    "        return histograms\n",
    "    \n",
    "    bin_num = 256 // interval\n",
    "    \n",
    "    new_histograms = {\n",
    "        'red':np.zeros(bin_num, np.int16), \n",
    "        'green':np.zeros(bin_num, np.int16), \n",
    "        'blue':np.zeros(bin_num, np.int16)\n",
    "        }\n",
    "\n",
    "    for i in range(bin_num):\n",
    "        for j in range(interval):\n",
    "            new_histograms['red'][i] += histograms['red'][i * interval + j]\n",
    "            new_histograms['green'][i] += histograms['green'][i * interval + j]\n",
    "            new_histograms['blue'][i] += histograms['blue'][i * interval + j]\n",
    "\n",
    "    return new_histograms\n",
    "    "
   ]
  },
  {
   "cell_type": "code",
   "execution_count": 5,
   "metadata": {},
   "outputs": [],
   "source": [
    "def normalize_histogram(h):\n",
    "    norm = np.sum(h)\n",
    "    normalized_hist = h/np.sum(h)\n",
    "    for i in range(normalized_hist.shape[0]):\n",
    "        if normalized_hist[i] == 0:\n",
    "            normalized_hist[i] = EPSILON / norm\n",
    "    return normalized_hist\n",
    "\n",
    "def kl_divergence(query_hist, support_hist):\n",
    "    total = 0\n",
    "    for q, s in zip(query_hist, support_hist):\n",
    "        total += q * np.log2(q/s)\n",
    "    return total"
   ]
  },
  {
   "cell_type": "code",
   "execution_count": 6,
   "metadata": {},
   "outputs": [
    {
     "name": "stdout",
     "output_type": "stream",
     "text": [
      "0.3801293466459517\n"
     ]
    }
   ],
   "source": [
    "hist1 = per_channel_histogram(img1)\n",
    "hist2 = per_channel_histogram(img2)\n",
    "red = kl_divergence(normalize_histogram(hist1['red']), normalize_histogram(hist2['red']))\n",
    "print(red)"
   ]
  },
  {
   "cell_type": "code",
   "execution_count": 7,
   "metadata": {},
   "outputs": [],
   "source": [
    "support_filenames = next(walk('dataset/support_96'), (None, None, []))[2]\n",
    "query_1_filenames = next(walk('dataset/query_1'), (None, None, []))[2]\n",
    "query_2_filenames = next(walk('dataset/query_2'), (None, None, []))[2]\n",
    "query_3_filenames = next(walk('dataset/query_3'), (None, None, []))[2]\n",
    "\n",
    "support_images = []\n",
    "for filename in support_filenames:\n",
    "    with Image.open('dataset/support_96/{}'.format(filename)) as image:\n",
    "        support_images.append((filename, np.asarray(image)))\n",
    "\n",
    "query_1_images = []\n",
    "for filename in query_1_filenames:\n",
    "    with Image.open('dataset/query_1/{}'.format(filename)) as image:\n",
    "        query_1_images.append((filename, np.asarray(image)))\n",
    "query_2_images = []\n",
    "for filename in query_2_filenames:\n",
    "    with Image.open('dataset/query_2/{}'.format(filename)) as image:\n",
    "        query_2_images.append((filename, np.asarray(image)))\n",
    "\n",
    "query_3_images = []\n",
    "for filename in query_3_filenames:\n",
    "    with Image.open('dataset/query_3/{}'.format(filename)) as image:\n",
    "        query_3_images.append((filename, np.asarray(image)))"
   ]
  },
  {
   "cell_type": "code",
   "execution_count": 8,
   "metadata": {},
   "outputs": [
    {
     "name": "stderr",
     "output_type": "stream",
     "text": [
      "support images: 100%|██████████| 200/200 [42:53<00:00, 12.87s/it]\n",
      "support images:  42%|████▏     | 84/200 [18:36<25:55, 13.41s/it]"
     ]
    }
   ],
   "source": [
    "# report 2\n",
    "# for q1\n",
    "q1_min_results = []\n",
    "intervals = [1,2,4,8,16]\n",
    "q1_accuracies = []\n",
    "for q in intervals:\n",
    "    correct_guesses = 0\n",
    "    for name, img in tqdm(support_images, desc=\"support images\", position=0):\n",
    "        min_divergence = 99\n",
    "        hist = per_channel_histogram(img, interval=q)\n",
    "        for q_name, q_img in query_1_images:\n",
    "            q_hist = per_channel_histogram(q_img, interval=q)\n",
    "            red_divergence = kl_divergence(normalize_histogram(q_hist['red']), normalize_histogram(hist['red']))\n",
    "            green_divergence = kl_divergence(normalize_histogram(q_hist['green']), normalize_histogram(hist['green']))\n",
    "            blue_divergence = kl_divergence(normalize_histogram(q_hist['blue']), normalize_histogram(hist['blue']))\n",
    "            divergence = (red_divergence + blue_divergence + blue_divergence) / 3\n",
    "            if divergence < min_divergence:\n",
    "                min_divergence = divergence\n",
    "                result = {'support': name, 'query': q_name, 'divergence': divergence}\n",
    "        q1_min_results.append(result)\n",
    "        if result['support'] == result['query']:\n",
    "            correct_guesses += 1\n",
    "    q1_accuracies.append({'interval': q, 'acc': correct_guesses / 200})"
   ]
  },
  {
   "cell_type": "code",
   "execution_count": null,
   "metadata": {},
   "outputs": [],
   "source": [
    "with open(\"q1_acc.txt\", 'w') as f:\n",
    "    f.write(str(q1_min_results))\n",
    "    f.write('\\n\\n')\n",
    "    f.write(str(q1_accuracies))"
   ]
  },
  {
   "cell_type": "code",
   "execution_count": null,
   "metadata": {},
   "outputs": [],
   "source": [
    "# for q2\n",
    "q2_min_results = []\n",
    "intervals = [1,2,4,8,16]\n",
    "q2_accuracies = []\n",
    "for q in intervals:\n",
    "    correct_guesses = 0\n",
    "    for name, img in tqdm(support_images, desc=\"support images\", position=0):\n",
    "        min_divergence = 99\n",
    "        hist = per_channel_histogram(img, interval=q)\n",
    "        for q_name, q_img in query_2_images:\n",
    "            q_hist = per_channel_histogram(q_img, interval=q)\n",
    "            red_divergence = kl_divergence(normalize_histogram(q_hist['red']), normalize_histogram(hist['red']))\n",
    "            green_divergence = kl_divergence(normalize_histogram(q_hist['green']), normalize_histogram(hist['green']))\n",
    "            blue_divergence = kl_divergence(normalize_histogram(q_hist['blue']), normalize_histogram(hist['blue']))\n",
    "            divergence = (red_divergence + blue_divergence + blue_divergence) / 3\n",
    "            if divergence < min_divergence:\n",
    "                min_divergence = divergence\n",
    "                result = {'support': name, 'query': q_name, 'divergence': divergence}\n",
    "        q2_min_results.append(result)\n",
    "        if result['support'] == result['query']:\n",
    "            correct_guesses += 1\n",
    "    q2_accuracies.append({'interval': q, 'acc': correct_guesses / 200})"
   ]
  },
  {
   "cell_type": "code",
   "execution_count": null,
   "metadata": {},
   "outputs": [],
   "source": [
    "with open(\"q2_acc.txt\", 'w') as f:\n",
    "    f.write(str(q2_min_results))\n",
    "    f.write('\\n\\n')\n",
    "    f.write(str(q2_accuracies))"
   ]
  },
  {
   "cell_type": "code",
   "execution_count": null,
   "metadata": {},
   "outputs": [],
   "source": [
    "# for q3\n",
    "q3_min_results = []\n",
    "intervals = [1,2,4,8,16]\n",
    "q3_accuracies = []\n",
    "for q in intervals:\n",
    "    correct_guesses = 0\n",
    "    for name, img in tqdm(support_images, desc=\"support images\", position=0):\n",
    "        min_divergence = 99\n",
    "        hist = per_channel_histogram(img, interval=q)\n",
    "        for q_name, q_img in query_3_images:\n",
    "            q_hist = per_channel_histogram(q_img, interval=q)\n",
    "            red_divergence = kl_divergence(normalize_histogram(q_hist['red']), normalize_histogram(hist['red']))\n",
    "            green_divergence = kl_divergence(normalize_histogram(q_hist['green']), normalize_histogram(hist['green']))\n",
    "            blue_divergence = kl_divergence(normalize_histogram(q_hist['blue']), normalize_histogram(hist['blue']))\n",
    "            divergence = (red_divergence + blue_divergence + blue_divergence) / 3\n",
    "            if divergence < min_divergence:\n",
    "                min_divergence = divergence\n",
    "                result = {'support': name, 'query': q_name, 'divergence': divergence}\n",
    "        q3_min_results.append(result)\n",
    "        if result['support'] == result['query']:\n",
    "            correct_guesses += 1\n",
    "    q3_accuracies.append({'interval': q, 'acc': correct_guesses / 200})"
   ]
  },
  {
   "cell_type": "code",
   "execution_count": null,
   "metadata": {},
   "outputs": [],
   "source": [
    "with open(\"q3_acc.txt\", 'w') as f:\n",
    "    f.write(str(q3_min_results))\n",
    "    f.write('\\n\\n')\n",
    "    f.write(str(q3_accuracies))"
   ]
  }
 ],
 "metadata": {
  "interpreter": {
   "hash": "31f2aee4e71d21fbe5cf8b01ff0e069b9275f58929596ceb00d14d90e3e16cd6"
  },
  "kernelspec": {
   "display_name": "Python 3.8.10 64-bit",
   "language": "python",
   "name": "python3"
  },
  "language_info": {
   "codemirror_mode": {
    "name": "ipython",
    "version": 3
   },
   "file_extension": ".py",
   "mimetype": "text/x-python",
   "name": "python",
   "nbconvert_exporter": "python",
   "pygments_lexer": "ipython3",
   "version": "3.8.10"
  },
  "orig_nbformat": 4
 },
 "nbformat": 4,
 "nbformat_minor": 2
}
